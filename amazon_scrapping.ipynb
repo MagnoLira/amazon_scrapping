{
 "cells": [
  {
   "cell_type": "code",
   "execution_count": 264,
   "metadata": {},
   "outputs": [],
   "source": [
    "from bs4 import BeautifulSoup\n",
    "import requests\n",
    "import pandas as pd"
   ]
  },
  {
   "cell_type": "code",
   "execution_count": 265,
   "metadata": {},
   "outputs": [],
   "source": [
    "def get_url(url):\n",
    "    try:\n",
    "        return requests.get(url=url)\n",
    "    except(requests.exceptions.HTTPError,requests.exceptions.ConnectionError,requests.exceptions.Timeout,\n",
    "           requests.exceptions.RequestException) as e:\n",
    "        print(f'the error: {str(e)}')\n",
    "    except Exception as e:\n",
    "        raise"
   ]
  },
  {
   "cell_type": "code",
   "execution_count": 266,
   "metadata": {},
   "outputs": [],
   "source": [
    "def get_products(content):\n",
    "    soup = BeautifulSoup(content, 'lxml')\n",
    "    products = soup.find_all('div', {'class': 'a-section a-spacing-small puis-padding-left-small puis-padding-right-small'}) \n",
    "    products_list = []\n",
    "    for p in products:\n",
    "        product_info = {}\n",
    "        product_info['href'] = p.a.get('href') #get url of the product\n",
    "        product_info['title'] = p.a.text #title\n",
    "        price_element = p.find('span', {'class': 'a-offscreen'}) #price\n",
    "        n_feedbacks=p.find('span',{'class':'a-size-base s-underline-text'}) # feedback count\n",
    "        if price_element:\n",
    "            product_info['price'] = price_element.text\n",
    "        else:\n",
    "            product_info['price'] = 'Price not available'\n",
    "        if n_feedbacks:\n",
    "            product_info['feedbacks'] = n_feedbacks.text\n",
    "        else:\n",
    "            product_info['feedbacks'] = 'Feedbacks not available'\n",
    "        products_list.append(product_info)\n",
    "    return products_list"
   ]
  },
  {
   "cell_type": "code",
   "execution_count": 267,
   "metadata": {},
   "outputs": [],
   "source": [
    "product_name='data science'"
   ]
  },
  {
   "cell_type": "code",
   "execution_count": 268,
   "metadata": {},
   "outputs": [],
   "source": [
    "all_data=[]\n",
    "for i in range(1,50):\n",
    "    url=f'https://www.amazon.com.br/s?k={product_name}&page={i}&__mk_pt_BR=ÅMÅŽÕÑ&crid=1G5609XYS8ZZ8&sprefix={product_name}%2Caps%2C239&ref=nb_sb_noss_1'\n",
    "    r=get_url(url)\n",
    "    info=get_products(r.text)\n",
    "    all_data.append(info)\n"
   ]
  },
  {
   "cell_type": "code",
   "execution_count": 274,
   "metadata": {},
   "outputs": [
    {
     "data": {
      "text/html": [
       "<div>\n",
       "<style scoped>\n",
       "    .dataframe tbody tr th:only-of-type {\n",
       "        vertical-align: middle;\n",
       "    }\n",
       "\n",
       "    .dataframe tbody tr th {\n",
       "        vertical-align: top;\n",
       "    }\n",
       "\n",
       "    .dataframe thead th {\n",
       "        text-align: right;\n",
       "    }\n",
       "</style>\n",
       "<table border=\"1\" class=\"dataframe\">\n",
       "  <thead>\n",
       "    <tr style=\"text-align: right;\">\n",
       "      <th></th>\n",
       "      <th>href</th>\n",
       "      <th>title</th>\n",
       "      <th>price</th>\n",
       "      <th>feedbacks</th>\n",
       "    </tr>\n",
       "  </thead>\n",
       "  <tbody>\n",
       "    <tr>\n",
       "      <th>0</th>\n",
       "      <td>/Causal-Inference-Data-Science-Villa/dp/163343...</td>\n",
       "      <td>Causal Inference for Data Science</td>\n",
       "      <td>R$ 298,04</td>\n",
       "      <td>Feedbacks not available</td>\n",
       "    </tr>\n",
       "    <tr>\n",
       "      <th>1</th>\n",
       "      <td>/Storytelling-Data-Cole-Nussbaumer-Knaflic/dp/...</td>\n",
       "      <td>Storytelling with Data: Let's Practice!</td>\n",
       "      <td>R$ 198,60</td>\n",
       "      <td>614</td>\n",
       "    </tr>\n",
       "    <tr>\n",
       "      <th>2</th>\n",
       "      <td>/Data-Driven-Science-Engineering-Learning-Dyna...</td>\n",
       "      <td>Data-Driven Science and Engineering: Machine L...</td>\n",
       "      <td>R$ 424,54</td>\n",
       "      <td>234</td>\n",
       "    </tr>\n",
       "    <tr>\n",
       "      <th>3</th>\n",
       "      <td>/Data-Science-Lined-Notebook-Scientist/dp/B09F...</td>\n",
       "      <td>Data Science Lined Notebook: Data Science Girl...</td>\n",
       "      <td>Price not available</td>\n",
       "      <td>Feedbacks not available</td>\n",
       "    </tr>\n",
       "    <tr>\n",
       "      <th>4</th>\n",
       "      <td>/Categorical-Data-Analysis-Alan-Agresti/dp/047...</td>\n",
       "      <td>Categorical Data Analysis: 792</td>\n",
       "      <td>R$ 747,81</td>\n",
       "      <td>62</td>\n",
       "    </tr>\n",
       "    <tr>\n",
       "      <th>...</th>\n",
       "      <td>...</td>\n",
       "      <td>...</td>\n",
       "      <td>...</td>\n",
       "      <td>...</td>\n",
       "    </tr>\n",
       "    <tr>\n",
       "      <th>61</th>\n",
       "      <td>/Introduction-Computation-Programming-Using-Py...</td>\n",
       "      <td>Introduction to Computation and Programming Us...</td>\n",
       "      <td>R$ 346,02</td>\n",
       "      <td>131</td>\n",
       "    </tr>\n",
       "    <tr>\n",
       "      <th>62</th>\n",
       "      <td>/Natural-Language-Processing-PyTorchlow-Delip/...</td>\n",
       "      <td>Natural Language Processing with Pytorch: Buil...</td>\n",
       "      <td>R$ 382,48</td>\n",
       "      <td>44</td>\n",
       "    </tr>\n",
       "    <tr>\n",
       "      <th>63</th>\n",
       "      <td>/Graph-Algorithms-Science-Tomaz-Bratanic/dp/16...</td>\n",
       "      <td>Graph Algorithms for Data Science</td>\n",
       "      <td>R$ 390,55</td>\n",
       "      <td>Feedbacks not available</td>\n",
       "    </tr>\n",
       "    <tr>\n",
       "      <th>64</th>\n",
       "      <td>/sociedade-ingovern%C3%A1vel-genealogia-libera...</td>\n",
       "      <td>A sociedade ingovernável: Uma genealogia do li...</td>\n",
       "      <td>R$ 63,48</td>\n",
       "      <td>124</td>\n",
       "    </tr>\n",
       "    <tr>\n",
       "      <th>65</th>\n",
       "      <td>/Database-Internals-Alex-Petrov/dp/1492040347?...</td>\n",
       "      <td>Database Internals: A Deep Dive Into How Distr...</td>\n",
       "      <td>R$ 257,33</td>\n",
       "      <td>318</td>\n",
       "    </tr>\n",
       "  </tbody>\n",
       "</table>\n",
       "<p>66 rows × 4 columns</p>\n",
       "</div>"
      ],
      "text/plain": [
       "                                                 href  \\\n",
       "0   /Causal-Inference-Data-Science-Villa/dp/163343...   \n",
       "1   /Storytelling-Data-Cole-Nussbaumer-Knaflic/dp/...   \n",
       "2   /Data-Driven-Science-Engineering-Learning-Dyna...   \n",
       "3   /Data-Science-Lined-Notebook-Scientist/dp/B09F...   \n",
       "4   /Categorical-Data-Analysis-Alan-Agresti/dp/047...   \n",
       "..                                                ...   \n",
       "61  /Introduction-Computation-Programming-Using-Py...   \n",
       "62  /Natural-Language-Processing-PyTorchlow-Delip/...   \n",
       "63  /Graph-Algorithms-Science-Tomaz-Bratanic/dp/16...   \n",
       "64  /sociedade-ingovern%C3%A1vel-genealogia-libera...   \n",
       "65  /Database-Internals-Alex-Petrov/dp/1492040347?...   \n",
       "\n",
       "                                                title                price  \\\n",
       "0                  Causal Inference for Data Science             R$ 298,04   \n",
       "1            Storytelling with Data: Let's Practice!             R$ 198,60   \n",
       "2   Data-Driven Science and Engineering: Machine L...            R$ 424,54   \n",
       "3   Data Science Lined Notebook: Data Science Girl...  Price not available   \n",
       "4                     Categorical Data Analysis: 792             R$ 747,81   \n",
       "..                                                ...                  ...   \n",
       "61  Introduction to Computation and Programming Us...            R$ 346,02   \n",
       "62  Natural Language Processing with Pytorch: Buil...            R$ 382,48   \n",
       "63                 Graph Algorithms for Data Science             R$ 390,55   \n",
       "64  A sociedade ingovernável: Uma genealogia do li...             R$ 63,48   \n",
       "65  Database Internals: A Deep Dive Into How Distr...            R$ 257,33   \n",
       "\n",
       "                  feedbacks  \n",
       "0   Feedbacks not available  \n",
       "1                       614  \n",
       "2                       234  \n",
       "3   Feedbacks not available  \n",
       "4                        62  \n",
       "..                      ...  \n",
       "61                      131  \n",
       "62                       44  \n",
       "63  Feedbacks not available  \n",
       "64                      124  \n",
       "65                      318  \n",
       "\n",
       "[66 rows x 4 columns]"
      ]
     },
     "execution_count": 274,
     "metadata": {},
     "output_type": "execute_result"
    }
   ],
   "source": [
    "df = pd.DataFrame([item for sublist in all_data for item in sublist], columns=['href', 'title', 'price', 'feedbacks'])"
   ]
  },
  {
   "cell_type": "code",
   "execution_count": 270,
   "metadata": {},
   "outputs": [],
   "source": [
    "df.to_csv('economics_book.csv',index=False)"
   ]
  },
  {
   "cell_type": "code",
   "execution_count": 271,
   "metadata": {},
   "outputs": [],
   "source": [
    "# url=f'https://www.amazon.com.br/s?k={product_name}&page=1&__mk_pt_BR=ÅMÅŽÕÑ&crid=1G5609XYS8ZZ8&sprefix={product_name}%2Caps%2C239&ref=nb_sb_noss_1'"
   ]
  },
  {
   "cell_type": "code",
   "execution_count": 272,
   "metadata": {},
   "outputs": [],
   "source": [
    "# r=get_url(url)"
   ]
  },
  {
   "cell_type": "code",
   "execution_count": 273,
   "metadata": {},
   "outputs": [],
   "source": [
    "# info=get_products(r.text)\n",
    "# info"
   ]
  },
  {
   "cell_type": "code",
   "execution_count": null,
   "metadata": {},
   "outputs": [],
   "source": []
  },
  {
   "cell_type": "code",
   "execution_count": null,
   "metadata": {},
   "outputs": [],
   "source": []
  },
  {
   "cell_type": "code",
   "execution_count": null,
   "metadata": {},
   "outputs": [],
   "source": []
  },
  {
   "cell_type": "code",
   "execution_count": null,
   "metadata": {},
   "outputs": [],
   "source": []
  },
  {
   "cell_type": "code",
   "execution_count": null,
   "metadata": {},
   "outputs": [],
   "source": []
  }
 ],
 "metadata": {
  "kernelspec": {
   "display_name": "Python 3",
   "language": "python",
   "name": "python3"
  },
  "language_info": {
   "codemirror_mode": {
    "name": "ipython",
    "version": 3
   },
   "file_extension": ".py",
   "mimetype": "text/x-python",
   "name": "python",
   "nbconvert_exporter": "python",
   "pygments_lexer": "ipython3",
   "version": "3.10.10"
  },
  "orig_nbformat": 4
 },
 "nbformat": 4,
 "nbformat_minor": 2
}
